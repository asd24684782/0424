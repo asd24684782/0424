{
 "cells": [
  {
   "cell_type": "code",
   "execution_count": 7,
   "metadata": {},
   "outputs": [
    {
     "name": "stdout",
     "output_type": "stream",
     "text": [
      "x=10\n",
      "再加油\n",
      "x=11\n",
      "再加油\n",
      "x=5\n",
      "再加油\n",
      "x=sdasd\n",
      "再加油\n",
      "x=qweqe\n",
      "再加油\n",
      "x=q\n",
      "quit\n"
     ]
    }
   ],
   "source": [
    "quit=True\n",
    "while quit:\n",
    "    x=input(\"x=\")\n",
    "    if x==\"8\":\n",
    "        print(\"good\")\n",
    "        quit=False\n",
    "    elif x==\"q\" or x==\"Q\":\n",
    "        print(\"quit\")\n",
    "        quit=False\n",
    "    else:\n",
    "        print(\"再加油\")"
   ]
  },
  {
   "cell_type": "code",
   "execution_count": null,
   "metadata": {},
   "outputs": [],
   "source": []
  },
  {
   "cell_type": "code",
   "execution_count": null,
   "metadata": {},
   "outputs": [],
   "source": []
  }
 ],
 "metadata": {
  "kernelspec": {
   "display_name": "Python 3",
   "language": "python",
   "name": "python3"
  },
  "language_info": {
   "codemirror_mode": {
    "name": "ipython",
    "version": 3
   },
   "file_extension": ".py",
   "mimetype": "text/x-python",
   "name": "python",
   "nbconvert_exporter": "python",
   "pygments_lexer": "ipython3",
   "version": "3.6.8"
  }
 },
 "nbformat": 4,
 "nbformat_minor": 2
}
